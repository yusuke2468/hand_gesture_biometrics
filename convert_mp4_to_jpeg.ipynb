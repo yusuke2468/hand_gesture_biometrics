{
 "cells": [
  {
   "cell_type": "code",
   "execution_count": null,
   "id": "fc58a477-fe30-4534-852f-0320e018d4d5",
   "metadata": {},
   "outputs": [],
   "source": [
    "# mp4 を jpg に変換する\n",
    "import os\n",
    "import subprocess\n",
    "\n",
    "# dir_path = './data/Original_mp4/mp4_data_left'\n",
    "dir_path = './data/Original_mp4/mp4_data_right'\n",
    "save_dir_path = './data/Original'\n",
    "\n",
    "for file_name in os.listdir(dir_path):\n",
    "    # ファイル名と拡張子に分割\n",
    "    name, ext = os.path.splitext(file_name)\n",
    "\n",
    "    # mp4ファイルでない、フォルダなどは処理しない\n",
    "    if ext != '.mp4':\n",
    "        continue\n",
    "\n",
    "    # 動画ファイルを画像に分割して保存するフォルダ名を取得\n",
    "#     images_directory_path = os.path.join(save_dir_path, name, \"left\")\n",
    "    images_directory_path = os.path.join(save_dir_path, name, \"right\")\n",
    "\n",
    "    # 上記の画像保存フォルダがなければ作成\n",
    "    if not os.path.exists(images_directory_path):\n",
    "        os.makedirs(images_directory_path)\n",
    "\n",
    "    # 動画ファイルへのパスを取得\n",
    "    video_file_path = os.path.join(dir_path, file_name)\n",
    "\n",
    "    # ffmpegを実行させ、動画ファイルをjpgにする （高さは256ピクセルで幅はアスペクト比を変えない）\n",
    "    # kineticsの動画の場合10秒になっており、大体300ファイルになる（30 frames /sec）\n",
    "    cmd = '/usr/bin/ffmpeg -i \\\"{}\\\" -vf scale=-1:256 -q:v 1 \\\"{}/%05d.jpg\\\"'.format(\n",
    "        video_file_path, images_directory_path)\n",
    "#     cmd = 'ffmpeg -i \\\"{}\\\" -vf scale=-1:256 \\\"{}/%05d.jpg\\\"'.format(\n",
    "#         video_file_path, images_directory_path)\n",
    "    print(cmd)\n",
    "    subprocess.call(cmd, stderr=subprocess.DEVNULL, shell=True)\n",
    "    print('\\n')\n",
    "\n",
    "print(\"動画ファイルを画像ファイルに変換しました。\")"
   ]
  },
  {
   "cell_type": "code",
   "execution_count": null,
   "id": "9eecb522-0e60-49cc-b813-6949cf56c17d",
   "metadata": {},
   "outputs": [],
   "source": []
  }
 ],
 "metadata": {
  "kernelspec": {
   "display_name": "Python 3 (ipykernel)",
   "language": "python",
   "name": "python3"
  },
  "language_info": {
   "codemirror_mode": {
    "name": "ipython",
    "version": 3
   },
   "file_extension": ".py",
   "mimetype": "text/x-python",
   "name": "python",
   "nbconvert_exporter": "python",
   "pygments_lexer": "ipython3",
   "version": "3.9.12"
  }
 },
 "nbformat": 4,
 "nbformat_minor": 5
}
